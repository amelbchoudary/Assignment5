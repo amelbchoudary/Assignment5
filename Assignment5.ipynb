{
 "cells": [
  {
   "attachments": {},
   "cell_type": "markdown",
   "metadata": {},
   "source": [
    "## GRPH"
   ]
  },
  {
   "cell_type": "code",
   "execution_count": null,
   "metadata": {},
   "outputs": [],
   "source": [
    "from Bio import SeqIO\n",
    "dna_strings = \"rosalind_grph.txt\"\n",
    "n = 3\n",
    "\n",
    "seq_name, seq_string = [], []\n",
    "with open (dna_strings,'r') as fa:\n",
    "    for seq_record  in SeqIO.parse(fa,'fasta'):\n",
    "        seq_name.append(str(seq_record.name))\n",
    "        seq_string.append(str(seq_record.seq))\n",
    "for i in range(len(seq_string)):\n",
    "    for j in range(len(seq_string)):\n",
    "        if i != j:\n",
    "            if seq_string[i][-n:] == seq_string[j][:n]:\n",
    "                print(seq_name[i], seq_name[j])\n"
   ]
  },
  {
   "attachments": {},
   "cell_type": "markdown",
   "metadata": {},
   "source": [
    "## MPRT\n"
   ]
  },
  {
   "cell_type": "code",
   "execution_count": 4,
   "metadata": {},
   "outputs": [
    {
     "name": "stdout",
     "output_type": "stream",
     "text": [
      "Q3Z2Z2\n",
      "49 \n",
      "Q16775\n",
      "41 \n",
      "Q9V730\n",
      "71 327 476 \n"
     ]
    }
   ],
   "source": [
    "import requests\n",
    "text = 'text'\n",
    "lst = []\n",
    "file = open('rosalind_mprt.txt', 'r')\n",
    "for line in file:\n",
    "    url = f'https://www.uniprot.org/uniprot/' + line.replace('\\n', '') + '.fasta?format={text}'\n",
    "    get_req = requests.get(url)\n",
    "    lst.append(get_req.text.split('\\n', 1))\n",
    "    lst[len(lst) - 1][0] = line.replace('\\n', '')\n",
    "    lst[len(lst) - 1][1] = lst[len(lst) - 1][1].replace('\\n', '')\n",
    "file.close()\n",
    "        \n",
    "\n",
    "for x in lst:\n",
    "    index = ''\n",
    "    for i in range(len(x[1])-4):\n",
    "        if x[1][i] == 'N':\n",
    "            if x[1][i+1] != 'P':\n",
    "                if x[1][i+2] == 'S' or x[1][i+2] == 'T':\n",
    "                    if x[1][i+3] != 'P':\n",
    "                        index = index + str(i+1)+' '\n",
    "    if index != '':\n",
    "        print(x[0])\n",
    "         \n",
    "        print(index)\n",
    "        "
   ]
  },
  {
   "attachments": {},
   "cell_type": "markdown",
   "metadata": {},
   "source": [
    "## ORF"
   ]
  },
  {
   "cell_type": "code",
   "execution_count": 14,
   "metadata": {},
   "outputs": [
    {
     "name": "stdout",
     "output_type": "stream",
     "text": [
      "MTRRFNKPGAVIWLVSA\n",
      "MPAR\n",
      "MATPFRFGS\n",
      "MRA\n",
      "MSEDG\n",
      "MLVPKFLEWCGSSRPPIGVI\n",
      "MPFYKWSLLCLLDEWRHHSDSARSYEPNLNGVAISCRSFTSSGLNPSPSDSLSL\n",
      "MPRRILSPLHYRKLHIIRSSQG\n",
      "MCQAITDGCRMYTKGYGLKRPVIWPISSGMPCGLKLG\n",
      "MYTKGYGLKRPVIWPISSGMPCGLKLG\n",
      "MPCGLKLG\n",
      "MLIPRLVLAPN\n",
      "MYLSASNPCWSRSF\n",
      "MNGDTIQIRLVATSRI\n",
      "MVSP\n",
      "MNLHRCPAGFCRRYTTESYILYALHRDNEGIAYTCAKLSPMVVGCILKDTG\n",
      "MVVGCILKDTG\n",
      "ME\n",
      "MGQITGRFSPYPLVYIRQPSVIAWHMYMLCPHYPCEERIICSFL\n",
      "MYMLCPHYPCEERIICSFL\n",
      "MLCPHYPCEERIICSFL\n",
      "MHYNDRLSEGLGFNPEEVKDLQLMATPFRFGS\n",
      "MTGGFLFCILSLDQITPIGGLEDPHHSRNFGTSMDWRPTGTLDAVASCASVLG\n",
      "MDWRPTGTLDAVASCASVLG\n",
      "MGHSAQ\n",
      "MKIHLYSFRNTKLQCTTMTGCPKDWDLIPRR\n",
      "MTGCPKDWDLIPRR\n",
      "MPMLWAILRNNNFPEIVVLYSIAGIFNRLLTSPKLQTTRHPGRDGPNNWPFQPVSFSIHPTTIGDSLAHVYAMPSLSL\n",
      "MLWAILRNNNFPEIVVLYSIAGIFNRLLTSPKLQTTRHPGRDGPNNWPFQPVSFSIHPTTIGDSLAHVYAMPSLSL\n",
      "MPSLSL\n",
      "M\n",
      "MVSPFI\n"
     ]
    }
   ],
   "source": [
    "from Bio import SeqIO\n",
    "import re\n",
    "\n",
    "rec = SeqIO.read(\"rosalind_orf.txt\", \"fasta\")\n",
    "\n",
    "res = []\n",
    "\n",
    "for nucleotide in [rec.seq, rec.seq.reverse_complement()]:\n",
    "    for frame in range(3):\n",
    "        length = 3 * ((len(rec)-frame) // 3)\n",
    "\n",
    "        for i in re.finditer(r\"[M]\", str(nucleotide[frame:frame+length].translate(1))):\n",
    "            match = re.findall(r\".*?[\\*]\", str(nucleotide[frame+i.start()*3:frame+length].translate(1)))\n",
    "            if match != []:\n",
    "                if all([j != match[0][:-1] for j in res]):\n",
    "                    res.append(match[0][:-1])\n",
    "\n",
    "for i in range(len(res)):\n",
    "    print (res[i])"
   ]
  },
  {
   "attachments": {},
   "cell_type": "markdown",
   "metadata": {},
   "source": [
    "## SPLC"
   ]
  },
  {
   "cell_type": "code",
   "execution_count": 13,
   "metadata": {},
   "outputs": [
    {
     "name": "stdout",
     "output_type": "stream",
     "text": [
      "MSTFFLGPKSISTVIFRIQASRVTVAYGHSEAVGPFGARCWWLVVALERPRTPYGLNTRTVAQRFSNTQRHVSSFRAVFARDRKSKLKQSWGQWREDFIRQEMLTITIPVLHTRAGIPDSVFSHRVYPSHRIDLLPTEFTLVVEVKSDGYTKEDTDNDGAYMARVSLASI\n"
     ]
    }
   ],
   "source": [
    "from Bio import SeqIO                          \n",
    "from Bio.Seq import Seq                        \n",
    "lst = []                                 \n",
    "handle = open('rosalind_splc.txt', 'r')         \n",
    "for record in SeqIO.parse(handle, 'fasta'):    \n",
    "    seq = ''                              \n",
    "    for x in record.seq:                      \n",
    "        seq += x                        \n",
    "\n",
    "\n",
    "    lst.append(seq)                 \n",
    "handle.close()                                 \n",
    "DNA = lst[0]                        \n",
    "introns =lst[1:]                        \n",
    "\n",
    "for i in range(len(introns)):    \n",
    "\n",
    "    DNA= DNA.replace(introns[i], '')\n",
    "\n",
    "DNA = Seq(DNA)  \n",
    "                  \n",
    "print(DNA.translate(to_stop=True))"
   ]
  },
  {
   "attachments": {},
   "cell_type": "markdown",
   "metadata": {},
   "source": [
    "## PMCH \n",
    "\n",
    "rectify"
   ]
  },
  {
   "cell_type": "code",
   "execution_count": 6,
   "metadata": {},
   "outputs": [],
   "source": [
    "from math import factorial as fac\n",
    "\n",
    "\n",
    "with open(\"rosalind_pmch.txt\") as inFile:\n",
    "\n",
    "\n",
    "    RNA = \"\".join(line.strip() for line in inFile.readlines()[1:])\n",
    "\n",
    "    \n",
    "with open(\"/Users/amelchoudary/Documents/University/YEAR 2/Computer Science  II/Assignments_CS_py/Assignment 5/answer_output\", \"w\") as outFile:\n",
    "\n",
    "    CG = RNA.count(\"C\")\n",
    "    AU = RNA.count(\"A\")\n",
    "\n",
    "    mtch = fac(CG) * fac(AU)\n",
    "    \n",
    "    print(f\"{mtch}\", file=outFile)\n",
    "\n",
    "#answer in file \"answer_output\""
   ]
  },
  {
   "attachments": {},
   "cell_type": "markdown",
   "metadata": {},
   "source": [
    "## PPER"
   ]
  },
  {
   "cell_type": "code",
   "execution_count": 5,
   "metadata": {},
   "outputs": [
    {
     "name": "stdout",
     "output_type": "stream",
     "text": [
      "184000.0\n"
     ]
    }
   ],
   "source": [
    "from math import factorial\n",
    "\n",
    "def pper(n,k):\n",
    "    permutation = (factorial(n)/factorial(n-k)) % 1000000\n",
    "    return permutation\n",
    "\n",
    "print(pper(83,9))"
   ]
  },
  {
   "attachments": {},
   "cell_type": "markdown",
   "metadata": {},
   "source": [
    "## TREE"
   ]
  },
  {
   "cell_type": "code",
   "execution_count": 11,
   "metadata": {},
   "outputs": [
    {
     "name": "stdout",
     "output_type": "stream",
     "text": [
      "26\n"
     ]
    }
   ],
   "source": [
    "def comp_tree(nodes,adj_lst):\n",
    "    existing =[]\n",
    "    for edge in adj_lst:\n",
    "        existing.append(edge)\n",
    "    extra_edges = (nodes - 1) - len(existing)\n",
    "    return extra_edges\n",
    "\n",
    "with open('rosalind_tree.txt', 'r') as myfile:\n",
    "    lines = myfile.read().splitlines()\n",
    "    n = int(lines[0])\n",
    "    edges = lines[1:]\n",
    "\n",
    "print(comp_tree(n, edges))\n",
    "\n",
    "    "
   ]
  },
  {
   "attachments": {},
   "cell_type": "markdown",
   "metadata": {},
   "source": [
    "## LONG"
   ]
  },
  {
   "cell_type": "code",
   "execution_count": null,
   "metadata": {},
   "outputs": [],
   "source": [
    "file = open(\"rosalind_long.txt\", \"r\")\n",
    "match = []\n",
    "string_1 = file.read()\n",
    "string_1 = string_1.replace(\"Rosalind_\", \"\")\n",
    "string_1 = string_1.replace(\"\\n\", \"\")\n",
    "string_1 = ''.join([i for i in string_1 if not i.isdigit()])\n",
    "match = string_1.split(\">\")\n",
    "match.remove(\"\")\n",
    "\n",
    "def shrtest_sbstring(mat, x=''):\n",
    "    if (len(match) == 0):\n",
    "        return x\n",
    "\n",
    "    elif (len(x) == 0):\n",
    "        x = match.pop(0)\n",
    "        return shrtest_sbstring(match, x)\n",
    "\n",
    "    else:\n",
    "        for i in range(len(match)):\n",
    "            a = match[i]\n",
    "            for j in range(len(a) // 2):\n",
    "                c = len(a) - j\n",
    "                if x.startswith(a[j:]):\n",
    "                    match.pop(i)\n",
    "                    return shrtest_sbstring(match, a[:j] + x)\n",
    "                if x.endswith(a[:c]):\n",
    "                    match.pop(i)\n",
    "                    return shrtest_sbstring(match, x + a[c:])\n",
    "print(shrtest_sbstring(match))\n"
   ]
  },
  {
   "attachments": {},
   "cell_type": "markdown",
   "metadata": {},
   "source": [
    "## SSEQ"
   ]
  },
  {
   "cell_type": "code",
   "execution_count": 7,
   "metadata": {},
   "outputs": [
    {
     "name": "stdout",
     "output_type": "stream",
     "text": [
      "2 14 15 18 21 22 23 32 33 45 47 50 53 60 61 65 67 80 84 85 103 105 108 113 118 124 126 131 132 140 141 142 144 151 156 158 164 167 173 175 177 186 187 188 192 196 203 204 205 207 208 209 215 216 220 222 224 227 228 229 230 233 237 239 242 243 254 255 258 261 264 275 277 290 292 293 298 299 300 313 \n"
     ]
    }
   ],
   "source": [
    "def motif(data, splc_motif):\n",
    "    position, indices = -1, ''\n",
    "    for seq in splc_motif:\n",
    "        position = data.find(seq, position+1)\n",
    "        indices += str(position+1) + ' '\n",
    "    print(indices)\n",
    "with open('rosalind_sseq.txt', 'r') as file:\n",
    "    content = file.read()\n",
    "dna, lines, line_num, dna_cont = content.count('>'), content.splitlines(), 0, []\n",
    "for i in range(dna):\n",
    "    DNA = ''\n",
    "    line_num += 1\n",
    "    while lines[line_num][0] != '>':\n",
    "        DNA += lines[line_num]\n",
    "        line_num += 1\n",
    "        if line_num+1 > len(lines):\n",
    "            break\n",
    "    dna_cont.append(DNA)\n",
    "\n",
    "motif(dna_cont[0], dna_cont[1])"
   ]
  },
  {
   "attachments": {},
   "cell_type": "markdown",
   "metadata": {},
   "source": [
    "## TRANS"
   ]
  },
  {
   "cell_type": "code",
   "execution_count": 8,
   "metadata": {},
   "outputs": [
    {
     "name": "stdout",
     "output_type": "stream",
     "text": [
      "2.3625\n"
     ]
    }
   ],
   "source": [
    "from Bio import SeqIO\n",
    "\n",
    "f = open(\"rosalind_tran.txt\", 'r')\n",
    "data = list(SeqIO.parse(f, \"fasta\"))\n",
    "f.close()\n",
    "seq_1 = data[0].seq\n",
    "seq_2 = data[1].seq\n",
    "trans = 0\n",
    "transvers = float(0)\n",
    "for nucleotide in range(len(seq_1)):\n",
    "    if seq_1[nucleotide] == seq_2[nucleotide]:\n",
    "        continue\n",
    "    elif seq_1[nucleotide] == \"A\" and (seq_2[nucleotide] == \"C\" or seq_2[nucleotide] == \"T\"):\n",
    "        transvers += 1\n",
    "    elif seq_1[nucleotide] == \"G\" and (seq_2[nucleotide] == \"C\" or seq_2[nucleotide] == \"T\"):\n",
    "        transvers += 1\n",
    "    elif seq_1[nucleotide] == \"C\" and (seq_2[nucleotide] == \"A\" or seq_2[nucleotide] == \"G\"):\n",
    "        transvers += 1\n",
    "    elif seq_1[nucleotide] == \"T\" and (seq_2[nucleotide] == \"A\" or seq_2[nucleotide] == \"G\"):\n",
    "        transvers += 1\n",
    "    else:\n",
    "        trans += 1\n",
    "\n",
    "print (trans/transvers)"
   ]
  }
 ],
 "metadata": {
  "kernelspec": {
   "display_name": "base",
   "language": "python",
   "name": "python3"
  },
  "language_info": {
   "codemirror_mode": {
    "name": "ipython",
    "version": 3
   },
   "file_extension": ".py",
   "mimetype": "text/x-python",
   "name": "python",
   "nbconvert_exporter": "python",
   "pygments_lexer": "ipython3",
   "version": "3.9.12"
  },
  "orig_nbformat": 4,
  "vscode": {
   "interpreter": {
    "hash": "84b7f5baf7709d8b0040a7b044644fcec20d91e73b471742cc0a411029aab504"
   }
  }
 },
 "nbformat": 4,
 "nbformat_minor": 2
}
